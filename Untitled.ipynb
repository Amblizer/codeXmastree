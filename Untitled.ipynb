{
 "cells": [
  {
   "cell_type": "code",
   "execution_count": 5,
   "metadata": {},
   "outputs": [
    {
     "name": "stdout",
     "output_type": "stream",
     "text": [
      "\n",
      "                     *\n",
      "                    \u001b[32m#\u001b[0m\u001b[5;31m®\u001b[0m\u001b[5;33m©\u001b[0m\n",
      "                   \u001b[5;37m©\u001b[0m\u001b[5;37ms\u001b[0m\u001b[32m#\u001b[0m\u001b[32m#\u001b[0m\u001b[32m#\u001b[0m\n",
      "                  \u001b[32m#\u001b[0m\u001b[32m#\u001b[0m\u001b[5;34m*\u001b[0m\u001b[32m#\u001b[0m\u001b[32m#\u001b[0m\u001b[32m#\u001b[0m\u001b[5;33m*\u001b[0m\n",
      "                 \u001b[32m#\u001b[0m\u001b[32m#\u001b[0m\u001b[32m#\u001b[0m\u001b[5;37ms\u001b[0m\u001b[5;33m&\u001b[0m\u001b[32m#\u001b[0m\u001b[32m#\u001b[0m\u001b[5;36m©\u001b[0m\u001b[32m#\u001b[0m\n",
      "                \u001b[32m#\u001b[0m\u001b[5;36ms\u001b[0m\u001b[32m#\u001b[0m\u001b[32m#\u001b[0m\u001b[32m#\u001b[0m\u001b[5;33m®\u001b[0m\u001b[32m#\u001b[0m\u001b[5;36m*\u001b[0m\u001b[32m#\u001b[0m\u001b[32m#\u001b[0m\u001b[32m#\u001b[0m\n",
      "               \u001b[32m#\u001b[0m\u001b[5;33m©\u001b[0m\u001b[32m#\u001b[0m\u001b[5;33m&\u001b[0m\u001b[32m#\u001b[0m\u001b[32m#\u001b[0m\u001b[32m#\u001b[0m\u001b[5;37m®\u001b[0m\u001b[32m#\u001b[0m\u001b[5;36ms\u001b[0m\u001b[32m#\u001b[0m\u001b[5;33m*\u001b[0m\u001b[32m#\u001b[0m\n",
      "              \u001b[32m#\u001b[0m\u001b[5;31m*\u001b[0m\u001b[5;37m®\u001b[0m\u001b[5;36ms\u001b[0m\u001b[32m#\u001b[0m\u001b[32m#\u001b[0m\u001b[5;33m&\u001b[0m\u001b[5;33ms\u001b[0m\u001b[32m#\u001b[0m\u001b[32m#\u001b[0m\u001b[5;31m&\u001b[0m\u001b[32m#\u001b[0m\u001b[5;33m©\u001b[0m\u001b[32m#\u001b[0m\u001b[5;33ms\u001b[0m\n",
      "             \u001b[32m#\u001b[0m\u001b[32m#\u001b[0m\u001b[32m#\u001b[0m\u001b[32m#\u001b[0m\u001b[32m#\u001b[0m\u001b[5;37m&\u001b[0m\u001b[32m#\u001b[0m\u001b[5;34m®\u001b[0m\u001b[32m#\u001b[0m\u001b[5;34m&\u001b[0m\u001b[32m#\u001b[0m\u001b[5;34m&\u001b[0m\u001b[32m#\u001b[0m\u001b[5;33ms\u001b[0m\u001b[32m#\u001b[0m\u001b[5;31m&\u001b[0m\u001b[5;36m*\u001b[0m\n",
      "            \u001b[5;31m®\u001b[0m\u001b[32m#\u001b[0m\u001b[32m#\u001b[0m\u001b[5;34m&\u001b[0m\u001b[32m#\u001b[0m\u001b[32m#\u001b[0m\u001b[5;33m®\u001b[0m\u001b[32m#\u001b[0m\u001b[32m#\u001b[0m\u001b[5;33m®\u001b[0m\u001b[5;34m*\u001b[0m\u001b[32m#\u001b[0m\u001b[32m#\u001b[0m\u001b[32m#\u001b[0m\u001b[32m#\u001b[0m\u001b[5;33ms\u001b[0m\u001b[32m#\u001b[0m\u001b[5;31m&\u001b[0m\u001b[32m#\u001b[0m\n",
      "           \u001b[32m#\u001b[0m\u001b[32m#\u001b[0m\u001b[5;31ms\u001b[0m\u001b[5;35m*\u001b[0m\u001b[32m#\u001b[0m\u001b[32m#\u001b[0m\u001b[5;37m®\u001b[0m\u001b[32m#\u001b[0m\u001b[32m#\u001b[0m\u001b[5;35ms\u001b[0m\u001b[5;31ms\u001b[0m\u001b[32m#\u001b[0m\u001b[5;34ms\u001b[0m\u001b[32m#\u001b[0m\u001b[32m#\u001b[0m\u001b[32m#\u001b[0m\u001b[32m#\u001b[0m\u001b[5;31m&\u001b[0m\u001b[32m#\u001b[0m\u001b[5;33ms\u001b[0m\u001b[32m#\u001b[0m\n",
      "          \u001b[5;37m©\u001b[0m\u001b[5;36m®\u001b[0m\u001b[32m#\u001b[0m\u001b[5;36m®\u001b[0m\u001b[32m#\u001b[0m\u001b[32m#\u001b[0m\u001b[32m#\u001b[0m\u001b[32m#\u001b[0m\u001b[5;34m©\u001b[0m\u001b[5;34m&\u001b[0m\u001b[32m#\u001b[0m\u001b[32m#\u001b[0m\u001b[32m#\u001b[0m\u001b[32m#\u001b[0m\u001b[32m#\u001b[0m\u001b[5;31m®\u001b[0m\u001b[32m#\u001b[0m\u001b[5;33ms\u001b[0m\u001b[32m#\u001b[0m\u001b[32m#\u001b[0m\u001b[32m#\u001b[0m\u001b[32m#\u001b[0m\u001b[32m#\u001b[0m\n",
      "         \u001b[32m#\u001b[0m\u001b[32m#\u001b[0m\u001b[5;33m&\u001b[0m\u001b[32m#\u001b[0m\u001b[32m#\u001b[0m\u001b[32m#\u001b[0m\u001b[5;31m*\u001b[0m\u001b[5;31m©\u001b[0m\u001b[32m#\u001b[0m\u001b[5;31m&\u001b[0m\u001b[5;34ms\u001b[0m\u001b[5;36m*\u001b[0m\u001b[5;37m&\u001b[0m\u001b[32m#\u001b[0m\u001b[5;37m*\u001b[0m\u001b[32m#\u001b[0m\u001b[5;37ms\u001b[0m\u001b[32m#\u001b[0m\u001b[32m#\u001b[0m\u001b[5;37m©\u001b[0m\u001b[32m#\u001b[0m\u001b[5;35m*\u001b[0m\u001b[5;33m®\u001b[0m\u001b[5;37m©\u001b[0m\u001b[32m#\u001b[0m\n",
      "        \u001b[32m#\u001b[0m\u001b[32m#\u001b[0m\u001b[32m#\u001b[0m\u001b[32m#\u001b[0m\u001b[32m#\u001b[0m\u001b[32m#\u001b[0m\u001b[32m#\u001b[0m\u001b[32m#\u001b[0m\u001b[32m#\u001b[0m\u001b[32m#\u001b[0m\u001b[5;35m©\u001b[0m\u001b[32m#\u001b[0m\u001b[32m#\u001b[0m\u001b[32m#\u001b[0m\u001b[5;36m*\u001b[0m\u001b[32m#\u001b[0m\u001b[32m#\u001b[0m\u001b[32m#\u001b[0m\u001b[5;35m*\u001b[0m\u001b[5;33m&\u001b[0m\u001b[32m#\u001b[0m\u001b[5;34ms\u001b[0m\u001b[32m#\u001b[0m\u001b[32m#\u001b[0m\u001b[32m#\u001b[0m\u001b[32m#\u001b[0m\u001b[32m#\u001b[0m\n",
      "       \u001b[5;35m&\u001b[0m\u001b[5;33m&\u001b[0m\u001b[32m#\u001b[0m\u001b[5;33m©\u001b[0m\u001b[5;35ms\u001b[0m\u001b[5;37m®\u001b[0m\u001b[32m#\u001b[0m\u001b[5;37m*\u001b[0m\u001b[5;37m®\u001b[0m\u001b[32m#\u001b[0m\u001b[32m#\u001b[0m\u001b[5;35ms\u001b[0m\u001b[32m#\u001b[0m\u001b[32m#\u001b[0m\u001b[5;36m&\u001b[0m\u001b[32m#\u001b[0m\u001b[32m#\u001b[0m\u001b[32m#\u001b[0m\u001b[32m#\u001b[0m\u001b[32m#\u001b[0m\u001b[32m#\u001b[0m\u001b[32m#\u001b[0m\u001b[32m#\u001b[0m\u001b[32m#\u001b[0m\u001b[32m#\u001b[0m\u001b[32m#\u001b[0m\u001b[5;35m©\u001b[0m\u001b[32m#\u001b[0m\u001b[32m#\u001b[0m\n",
      "      \u001b[32m#\u001b[0m\u001b[5;31m&\u001b[0m\u001b[32m#\u001b[0m\u001b[32m#\u001b[0m\u001b[32m#\u001b[0m\u001b[32m#\u001b[0m\u001b[5;36m*\u001b[0m\u001b[32m#\u001b[0m\u001b[32m#\u001b[0m\u001b[5;35m®\u001b[0m\u001b[32m#\u001b[0m\u001b[32m#\u001b[0m\u001b[32m#\u001b[0m\u001b[32m#\u001b[0m\u001b[32m#\u001b[0m\u001b[32m#\u001b[0m\u001b[32m#\u001b[0m\u001b[32m#\u001b[0m\u001b[5;34m©\u001b[0m\u001b[5;31ms\u001b[0m\u001b[5;36ms\u001b[0m\u001b[32m#\u001b[0m\u001b[32m#\u001b[0m\u001b[32m#\u001b[0m\u001b[32m#\u001b[0m\u001b[32m#\u001b[0m\u001b[32m#\u001b[0m\u001b[32m#\u001b[0m\u001b[32m#\u001b[0m\u001b[32m#\u001b[0m\u001b[32m#\u001b[0m\n",
      "     \u001b[5;37m&\u001b[0m\u001b[32m#\u001b[0m\u001b[5;35m©\u001b[0m\u001b[32m#\u001b[0m\u001b[32m#\u001b[0m\u001b[32m#\u001b[0m\u001b[32m#\u001b[0m\u001b[32m#\u001b[0m\u001b[5;31m*\u001b[0m\u001b[5;33m&\u001b[0m\u001b[5;35m®\u001b[0m\u001b[32m#\u001b[0m\u001b[32m#\u001b[0m\u001b[32m#\u001b[0m\u001b[5;37m*\u001b[0m\u001b[32m#\u001b[0m\u001b[32m#\u001b[0m\u001b[32m#\u001b[0m\u001b[32m#\u001b[0m\u001b[5;34m*\u001b[0m\u001b[32m#\u001b[0m\u001b[32m#\u001b[0m\u001b[32m#\u001b[0m\u001b[32m#\u001b[0m\u001b[32m#\u001b[0m\u001b[32m#\u001b[0m\u001b[5;33m®\u001b[0m\u001b[5;33m*\u001b[0m\u001b[32m#\u001b[0m\u001b[32m#\u001b[0m\u001b[5;31m*\u001b[0m\u001b[32m#\u001b[0m\u001b[32m#\u001b[0m\n",
      "    \u001b[32m#\u001b[0m\u001b[5;37ms\u001b[0m\u001b[5;35m*\u001b[0m\u001b[5;34ms\u001b[0m\u001b[32m#\u001b[0m\u001b[32m#\u001b[0m\u001b[5;33m®\u001b[0m\u001b[32m#\u001b[0m\u001b[5;37m&\u001b[0m\u001b[32m#\u001b[0m\u001b[32m#\u001b[0m\u001b[32m#\u001b[0m\u001b[5;31m©\u001b[0m\u001b[5;35m*\u001b[0m\u001b[32m#\u001b[0m\u001b[5;37m©\u001b[0m\u001b[32m#\u001b[0m\u001b[32m#\u001b[0m\u001b[32m#\u001b[0m\u001b[5;37m©\u001b[0m\u001b[5;34ms\u001b[0m\u001b[5;31m*\u001b[0m\u001b[5;33ms\u001b[0m\u001b[32m#\u001b[0m\u001b[32m#\u001b[0m\u001b[32m#\u001b[0m\u001b[5;33m&\u001b[0m\u001b[5;33m*\u001b[0m\u001b[32m#\u001b[0m\u001b[32m#\u001b[0m\u001b[32m#\u001b[0m\u001b[32m#\u001b[0m\u001b[5;31m*\u001b[0m\u001b[5;34m*\u001b[0m\u001b[5;35m®\u001b[0m\n",
      "   \u001b[32m#\u001b[0m\u001b[32m#\u001b[0m\u001b[5;36m®\u001b[0m\u001b[5;37m*\u001b[0m\u001b[32m#\u001b[0m\u001b[32m#\u001b[0m\u001b[5;31m&\u001b[0m\u001b[32m#\u001b[0m\u001b[32m#\u001b[0m\u001b[32m#\u001b[0m\u001b[5;35m®\u001b[0m\u001b[5;34ms\u001b[0m\u001b[5;33m*\u001b[0m\u001b[32m#\u001b[0m\u001b[32m#\u001b[0m\u001b[5;33ms\u001b[0m\u001b[32m#\u001b[0m\u001b[5;37m*\u001b[0m\u001b[32m#\u001b[0m\u001b[5;34m©\u001b[0m\u001b[32m#\u001b[0m\u001b[32m#\u001b[0m\u001b[32m#\u001b[0m\u001b[5;36m®\u001b[0m\u001b[32m#\u001b[0m\u001b[5;31ms\u001b[0m\u001b[5;34m©\u001b[0m\u001b[32m#\u001b[0m\u001b[32m#\u001b[0m\u001b[32m#\u001b[0m\u001b[32m#\u001b[0m\u001b[5;31ms\u001b[0m\u001b[5;37m®\u001b[0m\u001b[32m#\u001b[0m\u001b[32m#\u001b[0m\u001b[5;35m©\u001b[0m\u001b[32m#\u001b[0m\n",
      "  \u001b[5;34m©\u001b[0m\u001b[32m#\u001b[0m\u001b[5;31ms\u001b[0m\u001b[32m#\u001b[0m\u001b[32m#\u001b[0m\u001b[5;35m©\u001b[0m\u001b[32m#\u001b[0m\u001b[32m#\u001b[0m\u001b[5;33m©\u001b[0m\u001b[5;31m©\u001b[0m\u001b[32m#\u001b[0m\u001b[32m#\u001b[0m\u001b[32m#\u001b[0m\u001b[32m#\u001b[0m\u001b[32m#\u001b[0m\u001b[32m#\u001b[0m\u001b[5;37m©\u001b[0m\u001b[32m#\u001b[0m\u001b[32m#\u001b[0m\u001b[32m#\u001b[0m\u001b[5;31m*\u001b[0m\u001b[32m#\u001b[0m\u001b[5;33m&\u001b[0m\u001b[32m#\u001b[0m\u001b[32m#\u001b[0m\u001b[5;35m©\u001b[0m\u001b[5;34m&\u001b[0m\u001b[32m#\u001b[0m\u001b[5;36m*\u001b[0m\u001b[32m#\u001b[0m\u001b[5;33m®\u001b[0m\u001b[32m#\u001b[0m\u001b[32m#\u001b[0m\u001b[32m#\u001b[0m\u001b[32m#\u001b[0m\u001b[5;35m&\u001b[0m\u001b[32m#\u001b[0m\u001b[5;31ms\u001b[0m\u001b[5;34ms\u001b[0m\n",
      " \u001b[5;37ms\u001b[0m\u001b[32m#\u001b[0m\u001b[32m#\u001b[0m\u001b[32m#\u001b[0m\u001b[5;36ms\u001b[0m\u001b[32m#\u001b[0m\u001b[32m#\u001b[0m\u001b[32m#\u001b[0m\u001b[5;35m®\u001b[0m\u001b[32m#\u001b[0m\u001b[5;37ms\u001b[0m\u001b[5;31m©\u001b[0m\u001b[5;36m&\u001b[0m\u001b[32m#\u001b[0m\u001b[5;36m®\u001b[0m\u001b[5;37m&\u001b[0m\u001b[32m#\u001b[0m\u001b[32m#\u001b[0m\u001b[32m#\u001b[0m\u001b[5;33m*\u001b[0m\u001b[5;33m®\u001b[0m\u001b[32m#\u001b[0m\u001b[32m#\u001b[0m\u001b[32m#\u001b[0m\u001b[32m#\u001b[0m\u001b[32m#\u001b[0m\u001b[32m#\u001b[0m\u001b[32m#\u001b[0m\u001b[32m#\u001b[0m\u001b[5;34m*\u001b[0m\u001b[5;34m*\u001b[0m\u001b[32m#\u001b[0m\u001b[32m#\u001b[0m\u001b[32m#\u001b[0m\u001b[32m#\u001b[0m\u001b[32m#\u001b[0m\u001b[32m#\u001b[0m\u001b[5;35m©\u001b[0m\u001b[32m#\u001b[0m\u001b[32m#\u001b[0m\u001b[32m#\u001b[0m\n",
      "\u001b[5;35m®\u001b[0m\u001b[5;37m®\u001b[0m\u001b[5;35m*\u001b[0m\u001b[5;37m®\u001b[0m\u001b[32m#\u001b[0m\u001b[5;31m*\u001b[0m\u001b[5;34m®\u001b[0m\u001b[32m#\u001b[0m\u001b[5;33m*\u001b[0m\u001b[32m#\u001b[0m\u001b[32m#\u001b[0m\u001b[32m#\u001b[0m\u001b[5;31m©\u001b[0m\u001b[5;34m&\u001b[0m\u001b[32m#\u001b[0m\u001b[5;37m®\u001b[0m\u001b[5;35ms\u001b[0m\u001b[5;34m*\u001b[0m\u001b[32m#\u001b[0m\u001b[32m#\u001b[0m\u001b[5;37m©\u001b[0m\u001b[5;33m®\u001b[0m\u001b[32m#\u001b[0m\u001b[32m#\u001b[0m\u001b[5;36ms\u001b[0m\u001b[5;37m&\u001b[0m\u001b[5;37m®\u001b[0m\u001b[5;34m&\u001b[0m\u001b[5;35m&\u001b[0m\u001b[32m#\u001b[0m\u001b[32m#\u001b[0m\u001b[32m#\u001b[0m\u001b[32m#\u001b[0m\u001b[32m#\u001b[0m\u001b[5;35m*\u001b[0m\u001b[32m#\u001b[0m\u001b[32m#\u001b[0m\u001b[32m#\u001b[0m\u001b[32m#\u001b[0m\u001b[5;35m®\u001b[0m\u001b[32m#\u001b[0m\u001b[32m#\u001b[0m\u001b[5;34m&\u001b[0m\n",
      "                    000\n",
      "                    000\n",
      "\n"
     ]
    }
   ],
   "source": [
    "\"\"\" christmas.py \n",
    "Prints a christmas tree on the terminal using coloured and blinking characters.\n",
    "Uses ansi terminal escape sequences.\n",
    "The '\\033[' part is the escape code. \n",
    "We pass '5;' for the colours other than green to make them blink.\n",
    "The next part is the colour code and the 'm' ends the sequence.\n",
    "To reset the colour we pass \"\\033[0m\" after each character.\n",
    "Python 3 version by antiloquax (2015), based on code from datamungeblog.com.\n",
    "\"\"\"\n",
    "\n",
    "import random\n",
    "\n",
    "def main(sizeTree=21, probGreen=0.6):\n",
    "    # Make the tree according to demanded size, only use odd number\n",
    "    # probGreen is the probability of green charactors\n",
    "    if sizeTree % 2 != 1:\n",
    "        sizeTree = int(sizeTree) + 1\n",
    "        print('Odd integer only, increased to', sizeTree)\n",
    "    if probGreen < 0 or probGreen > 1:\n",
    "        probGreen = random.random()\n",
    "        print('Must within [0, 1], randomly changed to', probGreen)\n",
    "    print(makeTree(sizeTree, probGreen))\n",
    "\n",
    "def makeTree(sizeTree, probGreen):\n",
    "    colors = [31, 33, 34, 35, 36, 37]\n",
    "    decors = ['s', '&', '*', chr(169), chr(174)]\n",
    "\n",
    "    # blinking characters\n",
    "    blink = '\\033[5;{0}m{1}\\033[0m'\n",
    "    # leaves\n",
    "    leaf = '\\033[32m#\\033[0m'\n",
    "    # width of the tree\n",
    "    width = 1\n",
    "    # init the star at the top\n",
    "    tree = '\\n{}*\\n'.format(' ' * (sizeTree))\n",
    "\n",
    "    for pad in range(sizeTree-1, -1, -1):\n",
    "        width += 2\n",
    "        # put chars in 'temp'\n",
    "        temp = ''\n",
    "        for j in range(width):\n",
    "            if random.random() < probGreen:\n",
    "                temp += leaf\n",
    "            # add baubles\n",
    "            else:\n",
    "                temp += blink.format(random.choice(colors), \\\n",
    "                                     random.choice(decors))\n",
    "        tree += \"{0}{1}\\n\".format(' ' * pad, temp)\n",
    "    # add a trunk\n",
    "    return tree + '{0}{1}\\n'.format(' ' * (sizeTree - 1), \"000\") * 2\n",
    "\n",
    "main()"
   ]
  }
 ],
 "metadata": {
  "kernelspec": {
   "display_name": "Python 3",
   "language": "python",
   "name": "python3"
  },
  "language_info": {
   "codemirror_mode": {
    "name": "ipython",
    "version": 3
   },
   "file_extension": ".py",
   "mimetype": "text/x-python",
   "name": "python",
   "nbconvert_exporter": "python",
   "pygments_lexer": "ipython3",
   "version": "3.6.3"
  }
 },
 "nbformat": 4,
 "nbformat_minor": 2
}
